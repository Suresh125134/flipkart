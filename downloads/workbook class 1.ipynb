{
 "cells": [
  {
   "cell_type": "code",
   "execution_count": 6,
   "id": "1820b51c-31c1-49de-8ebd-00dd732454d1",
   "metadata": {},
   "outputs": [
    {
     "name": "stdout",
     "output_type": "stream",
     "text": [
      "Hi, I'm suresh 2.0\n"
     ]
    }
   ],
   "source": [
    "print(\"Hi, I'm suresh 2.0\")\n"
   ]
  },
  {
   "cell_type": "code",
   "execution_count": 7,
   "id": "c2e657ef-a303-432d-a3c0-e73322b7313b",
   "metadata": {},
   "outputs": [
    {
     "data": {
      "text/plain": [
       "int"
      ]
     },
     "execution_count": 7,
     "metadata": {},
     "output_type": "execute_result"
    }
   ],
   "source": [
    "a=14\n",
    "type(a)"
   ]
  },
  {
   "cell_type": "code",
   "execution_count": 8,
   "id": "81d1fbab-ea03-44cf-9e98-c623dc3ed652",
   "metadata": {},
   "outputs": [
    {
     "name": "stdout",
     "output_type": "stream",
     "text": [
      "<class 'int'>\n"
     ]
    }
   ],
   "source": [
    "print(type(a))"
   ]
  },
  {
   "cell_type": "code",
   "execution_count": 9,
   "id": "d0d8a680-a9d2-40d8-bd40-1c084f2e0ec1",
   "metadata": {},
   "outputs": [
    {
     "data": {
      "text/plain": [
       "str"
      ]
     },
     "execution_count": 9,
     "metadata": {},
     "output_type": "execute_result"
    }
   ],
   "source": [
    "b=\"suresh\"\n",
    "type(b)"
   ]
  },
  {
   "cell_type": "code",
   "execution_count": null,
   "id": "4f13dec4-d5e7-4e92-9b38-8c3b7c570d1e",
   "metadata": {},
   "outputs": [],
   "source": [
    "a=69"
   ]
  },
  {
   "cell_type": "code",
   "execution_count": 5,
   "id": "f4497603-0974-4f3c-b641-fd4abf8627ab",
   "metadata": {},
   "outputs": [
    {
     "name": "stdin",
     "output_type": "stream",
     "text": [
      " b\n"
     ]
    }
   ],
   "source": [
    "a=input()"
   ]
  },
  {
   "cell_type": "code",
   "execution_count": 6,
   "id": "14e26428-74c5-47d2-a268-9aefe65d06da",
   "metadata": {},
   "outputs": [
    {
     "name": "stdin",
     "output_type": "stream",
     "text": [
      " b\n"
     ]
    }
   ],
   "source": [
    "a=input()"
   ]
  },
  {
   "cell_type": "code",
   "execution_count": 6,
   "id": "50704926-180e-4379-8dd1-ef8892e20f46",
   "metadata": {},
   "outputs": [
    {
     "data": {
      "text/plain": [
       "'b'"
      ]
     },
     "execution_count": 6,
     "metadata": {},
     "output_type": "execute_result"
    }
   ],
   "source": [
    "a"
   ]
  },
  {
   "cell_type": "code",
   "execution_count": 7,
   "id": "12c0476b-273d-468b-8a92-b4b2154f78a8",
   "metadata": {},
   "outputs": [
    {
     "name": "stdin",
     "output_type": "stream",
     "text": [
      " suresh\n"
     ]
    }
   ],
   "source": [
    "c=input()"
   ]
  },
  {
   "cell_type": "code",
   "execution_count": 8,
   "id": "d2a2a12b-89ea-44ab-8a75-4de325e00773",
   "metadata": {},
   "outputs": [
    {
     "data": {
      "text/plain": [
       "'suresh'"
      ]
     },
     "execution_count": 8,
     "metadata": {},
     "output_type": "execute_result"
    }
   ],
   "source": [
    "c"
   ]
  },
  {
   "cell_type": "code",
   "execution_count": 9,
   "id": "fc0416f6-67bf-409f-ba23-546261b381b3",
   "metadata": {},
   "outputs": [],
   "source": [
    "#arithmetic operators"
   ]
  },
  {
   "cell_type": "code",
   "execution_count": 10,
   "id": "a087ca80-948a-4f8f-90da-64b5fd7c71ac",
   "metadata": {},
   "outputs": [
    {
     "data": {
      "text/plain": [
       "49.0"
      ]
     },
     "execution_count": 10,
     "metadata": {},
     "output_type": "execute_result"
    }
   ],
   "source": [
    "98/2"
   ]
  },
  {
   "cell_type": "code",
   "execution_count": 11,
   "id": "1d790ad2-67bb-475b-babe-1ce9f25bfb61",
   "metadata": {},
   "outputs": [
    {
     "data": {
      "text/plain": [
       "29"
      ]
     },
     "execution_count": 11,
     "metadata": {},
     "output_type": "execute_result"
    }
   ],
   "source": [
    "89//3"
   ]
  },
  {
   "cell_type": "code",
   "execution_count": 14,
   "id": "eb25e724-e942-4e1f-98b8-3379b011f968",
   "metadata": {},
   "outputs": [
    {
     "data": {
      "text/plain": [
       "9"
      ]
     },
     "execution_count": 14,
     "metadata": {},
     "output_type": "execute_result"
    }
   ],
   "source": [
    "3**2"
   ]
  },
  {
   "cell_type": "code",
   "execution_count": 15,
   "id": "3ac2ed1e-c74f-4c2b-b785-94ceba149864",
   "metadata": {},
   "outputs": [],
   "source": [
    "#assignment operator"
   ]
  },
  {
   "cell_type": "code",
   "execution_count": 25,
   "id": "75dde330-cead-4026-b939-d3abf7e995bf",
   "metadata": {},
   "outputs": [],
   "source": [
    "a=234"
   ]
  },
  {
   "cell_type": "code",
   "execution_count": 29,
   "id": "ae0b2746-2f5d-480b-b83c-0db5ed5024cf",
   "metadata": {},
   "outputs": [
    {
     "data": {
      "text/plain": [
       "401"
      ]
     },
     "execution_count": 29,
     "metadata": {},
     "output_type": "execute_result"
    }
   ],
   "source": [
    "a"
   ]
  },
  {
   "cell_type": "code",
   "execution_count": 27,
   "id": "5992e6dd-0716-4ebb-8d89-b471b455f394",
   "metadata": {},
   "outputs": [],
   "source": [
    "a+=167"
   ]
  },
  {
   "cell_type": "code",
   "execution_count": 28,
   "id": "67725d27-9496-4de8-9aef-a298877e0735",
   "metadata": {},
   "outputs": [
    {
     "data": {
      "text/plain": [
       "401"
      ]
     },
     "execution_count": 28,
     "metadata": {},
     "output_type": "execute_result"
    }
   ],
   "source": [
    "a"
   ]
  },
  {
   "cell_type": "code",
   "execution_count": 23,
   "id": "552982f5-5d6c-4f93-b512-8bb5c3965e3d",
   "metadata": {},
   "outputs": [],
   "source": [
    "#comparison op"
   ]
  },
  {
   "cell_type": "code",
   "execution_count": 26,
   "id": "c270a0be-7508-4ea4-aca4-ee0cead600e8",
   "metadata": {},
   "outputs": [
    {
     "data": {
      "text/plain": [
       "True"
      ]
     },
     "execution_count": 26,
     "metadata": {},
     "output_type": "execute_result"
    }
   ],
   "source": [
    "a>187"
   ]
  },
  {
   "cell_type": "code",
   "execution_count": 30,
   "id": "7134a426-6d82-4bb1-a49a-fa6dbf19c964",
   "metadata": {},
   "outputs": [
    {
     "data": {
      "text/plain": [
       "False"
      ]
     },
     "execution_count": 30,
     "metadata": {},
     "output_type": "execute_result"
    }
   ],
   "source": [
    "a==187 and a>187"
   ]
  },
  {
   "cell_type": "code",
   "execution_count": 34,
   "id": "9fddff7e-68e3-4a5b-92f7-8d5ccaf853e3",
   "metadata": {},
   "outputs": [
    {
     "data": {
      "text/plain": [
       "76.0"
      ]
     },
     "execution_count": 34,
     "metadata": {},
     "output_type": "execute_result"
    }
   ],
   "source": [
    "float(a)"
   ]
  },
  {
   "cell_type": "code",
   "execution_count": 32,
   "id": "33331dce-a7e0-45cd-847d-a064a958693b",
   "metadata": {},
   "outputs": [
    {
     "name": "stdin",
     "output_type": "stream",
     "text": [
      " 76\n"
     ]
    }
   ],
   "source": [
    "a=input()"
   ]
  },
  {
   "cell_type": "code",
   "execution_count": 33,
   "id": "017a251b-26e1-4422-b598-95e6e0901579",
   "metadata": {},
   "outputs": [
    {
     "data": {
      "text/plain": [
       "'76'"
      ]
     },
     "execution_count": 33,
     "metadata": {},
     "output_type": "execute_result"
    }
   ],
   "source": [
    "a"
   ]
  },
  {
   "cell_type": "code",
   "execution_count": 35,
   "id": "2061f9e9-289f-4cd2-ac41-f1dbf8fe7062",
   "metadata": {},
   "outputs": [],
   "source": [
    "a=76"
   ]
  },
  {
   "cell_type": "code",
   "execution_count": 36,
   "id": "94868ea3-bf0e-4d0e-b935-7a67ad427371",
   "metadata": {},
   "outputs": [
    {
     "name": "stdout",
     "output_type": "stream",
     "text": [
      "Enter the value of a is 76 and it is a integer\n"
     ]
    }
   ],
   "source": [
    "print('Enter the value of a is',a,'and it is a integer')"
   ]
  },
  {
   "cell_type": "code",
   "execution_count": 37,
   "id": "8efa4b9c-7474-4f0a-8e95-6a40cce4dcf4",
   "metadata": {},
   "outputs": [],
   "source": [
    "#formatted string"
   ]
  },
  {
   "cell_type": "code",
   "execution_count": 38,
   "id": "ca6ab3c8-77e9-4c37-b2a1-03b16b345768",
   "metadata": {},
   "outputs": [
    {
     "name": "stdout",
     "output_type": "stream",
     "text": [
      "the value stored in a is 76 and it is an integer\n"
     ]
    }
   ],
   "source": [
    "print(f'the value stored in a is {a} and it is an integer')"
   ]
  },
  {
   "cell_type": "code",
   "execution_count": null,
   "id": "2170d08b-50d1-4860-bb30-fa86b5a8a23d",
   "metadata": {},
   "outputs": [],
   "source": [
    "#while we using multiple strings"
   ]
  },
  {
   "cell_type": "code",
   "execution_count": 39,
   "id": "b220daee-f54d-4ffe-9d27-1e5251caf555",
   "metadata": {},
   "outputs": [
    {
     "name": "stdout",
     "output_type": "stream",
     "text": [
      "hi, this is suresh.i am learning python. this is the first class\n"
     ]
    }
   ],
   "source": [
    "print('''hi, this is suresh.i am learning python. this is the first class''')"
   ]
  },
  {
   "cell_type": "code",
   "execution_count": 41,
   "id": "4904d12a-1d03-47f1-bde2-0bfa815cc91e",
   "metadata": {},
   "outputs": [],
   "source": [
    "#special, sequential data types ----> list"
   ]
  },
  {
   "cell_type": "code",
   "execution_count": 42,
   "id": "5f3ebe59-2773-4ab7-9c79-3f45cd4fc73a",
   "metadata": {},
   "outputs": [],
   "source": [
    "l=[1,2,'a',4.5]"
   ]
  },
  {
   "cell_type": "code",
   "execution_count": 43,
   "id": "edbad17e-538e-4885-aa7d-b8d5878acbe2",
   "metadata": {},
   "outputs": [
    {
     "data": {
      "text/plain": [
       "[1, 2, 'a', 4.5]"
      ]
     },
     "execution_count": 43,
     "metadata": {},
     "output_type": "execute_result"
    }
   ],
   "source": [
    "l"
   ]
  },
  {
   "cell_type": "code",
   "execution_count": null,
   "id": "273ca645-fed4-4432-b50b-87aea5150718",
   "metadata": {},
   "outputs": [],
   "source": [
    "#fetching the elements with the help of indexing"
   ]
  },
  {
   "cell_type": "code",
   "execution_count": 44,
   "id": "3a879155-d21b-41c4-99de-37f28fdfe7c3",
   "metadata": {},
   "outputs": [
    {
     "data": {
      "text/plain": [
       "'a'"
      ]
     },
     "execution_count": 44,
     "metadata": {},
     "output_type": "execute_result"
    }
   ],
   "source": [
    "l[2]"
   ]
  },
  {
   "cell_type": "code",
   "execution_count": 45,
   "id": "46cb8b3f-1f54-4169-99cd-69e85cc949a1",
   "metadata": {},
   "outputs": [
    {
     "data": {
      "text/plain": [
       "4.5"
      ]
     },
     "execution_count": 45,
     "metadata": {},
     "output_type": "execute_result"
    }
   ],
   "source": [
    "l[-1]"
   ]
  },
  {
   "cell_type": "code",
   "execution_count": 46,
   "id": "f97b89fb-45b0-433d-841d-0dbb13976985",
   "metadata": {},
   "outputs": [],
   "source": [
    "#slicing of alist listname[srtpos:endpos]-it will start from the start pos and end at end pos before ending element"
   ]
  },
  {
   "cell_type": "code",
   "execution_count": 47,
   "id": "72857c28-4060-4afa-bc0e-396dbb451324",
   "metadata": {},
   "outputs": [
    {
     "data": {
      "text/plain": [
       "[2, 'a']"
      ]
     },
     "execution_count": 47,
     "metadata": {},
     "output_type": "execute_result"
    }
   ],
   "source": [
    "l[1:3]"
   ]
  },
  {
   "cell_type": "code",
   "execution_count": 48,
   "id": "a414f697-b2ef-4e21-a9d2-99f1711fbe4d",
   "metadata": {},
   "outputs": [
    {
     "data": {
      "text/plain": [
       "[2, 'a']"
      ]
     },
     "execution_count": 48,
     "metadata": {},
     "output_type": "execute_result"
    }
   ],
   "source": [
    "l[-3:-1]\n"
   ]
  },
  {
   "cell_type": "code",
   "execution_count": 49,
   "id": "15dc12fc-e400-4e50-9f2b-ef2b75d8b98f",
   "metadata": {},
   "outputs": [
    {
     "data": {
      "text/plain": [
       "[1, 2, 'a']"
      ]
     },
     "execution_count": 49,
     "metadata": {},
     "output_type": "execute_result"
    }
   ],
   "source": [
    "l[:3]"
   ]
  },
  {
   "cell_type": "code",
   "execution_count": 50,
   "id": "f68c8296-a7c3-4ca5-8761-21a4a67c6eb6",
   "metadata": {},
   "outputs": [
    {
     "data": {
      "text/plain": [
       "['a', 4.5]"
      ]
     },
     "execution_count": 50,
     "metadata": {},
     "output_type": "execute_result"
    }
   ],
   "source": [
    "l[-2:]"
   ]
  },
  {
   "cell_type": "code",
   "execution_count": 51,
   "id": "aaa2a255-f9df-40c5-83a7-569cc69ab281",
   "metadata": {},
   "outputs": [
    {
     "data": {
      "text/plain": [
       "[1, 2]"
      ]
     },
     "execution_count": 51,
     "metadata": {},
     "output_type": "execute_result"
    }
   ],
   "source": [
    "l[:-2]"
   ]
  },
  {
   "cell_type": "code",
   "execution_count": 52,
   "id": "9a27880d-941c-45e4-bdb5-44241864eaf4",
   "metadata": {},
   "outputs": [],
   "source": [
    "#some functions in list"
   ]
  },
  {
   "cell_type": "code",
   "execution_count": 53,
   "id": "98793aad-9bd3-45bc-960a-39e83c3d5348",
   "metadata": {},
   "outputs": [
    {
     "data": {
      "text/plain": [
       "[1, 2, 'a', 4.5]"
      ]
     },
     "execution_count": 53,
     "metadata": {},
     "output_type": "execute_result"
    }
   ],
   "source": [
    "l"
   ]
  },
  {
   "cell_type": "code",
   "execution_count": 59,
   "id": "441622bc-e319-4036-89bd-78dc3ec6e677",
   "metadata": {},
   "outputs": [
    {
     "data": {
      "text/plain": [
       "[1, 2, 'a', 4.5, 70, 70, 70, 89]"
      ]
     },
     "execution_count": 59,
     "metadata": {},
     "output_type": "execute_result"
    }
   ],
   "source": [
    "l"
   ]
  },
  {
   "cell_type": "code",
   "execution_count": 58,
   "id": "d8dee24c-5ad4-4ee4-ac0a-e96ec9861282",
   "metadata": {},
   "outputs": [
    {
     "data": {
      "text/plain": [
       "[1, 2, 'a', 4.5, 70, 70, 70, 89]"
      ]
     },
     "execution_count": 58,
     "metadata": {},
     "output_type": "execute_result"
    }
   ],
   "source": [
    "l.append(89)\n",
    "l"
   ]
  },
  {
   "cell_type": "code",
   "execution_count": 62,
   "id": "3fa89dd7-d00e-4c0c-b70f-2263dea367d6",
   "metadata": {},
   "outputs": [
    {
     "data": {
      "text/plain": [
       "[1, 2, 'a', 4.5, 70, 'c', 'c', 'c', 70, 70, 89]"
      ]
     },
     "execution_count": 62,
     "metadata": {},
     "output_type": "execute_result"
    }
   ],
   "source": [
    "l.insert(5,'c')\n",
    "l"
   ]
  },
  {
   "cell_type": "code",
   "execution_count": 63,
   "id": "606e092a-94cd-4a17-9196-a561f45b60f2",
   "metadata": {},
   "outputs": [
    {
     "data": {
      "text/plain": [
       "89"
      ]
     },
     "execution_count": 63,
     "metadata": {},
     "output_type": "execute_result"
    }
   ],
   "source": [
    "l.pop()"
   ]
  },
  {
   "cell_type": "code",
   "execution_count": 65,
   "id": "1ae72c34-4ed1-415b-92ec-8c94595c0037",
   "metadata": {},
   "outputs": [
    {
     "data": {
      "text/plain": [
       "'c'"
      ]
     },
     "execution_count": 65,
     "metadata": {},
     "output_type": "execute_result"
    }
   ],
   "source": [
    "l.pop(6)"
   ]
  },
  {
   "cell_type": "code",
   "execution_count": 66,
   "id": "7328f3ce-bb14-4643-bb2b-0989d48196e9",
   "metadata": {},
   "outputs": [
    {
     "data": {
      "text/plain": [
       "70"
      ]
     },
     "execution_count": 66,
     "metadata": {},
     "output_type": "execute_result"
    }
   ],
   "source": [
    "l.pop(7)"
   ]
  },
  {
   "cell_type": "code",
   "execution_count": 67,
   "id": "91194b99-4313-433c-baef-81101cacd359",
   "metadata": {},
   "outputs": [
    {
     "data": {
      "text/plain": [
       "[1, 2, 'a', 4.5, 70, 'c', 'c', 70]"
      ]
     },
     "execution_count": 67,
     "metadata": {},
     "output_type": "execute_result"
    }
   ],
   "source": [
    "l"
   ]
  },
  {
   "cell_type": "code",
   "execution_count": 68,
   "id": "e76c1e50-1e9e-44b8-ab04-3263f81dade6",
   "metadata": {},
   "outputs": [
    {
     "ename": "TypeError",
     "evalue": "'<' not supported between instances of 'str' and 'int'",
     "output_type": "error",
     "traceback": [
      "\u001b[1;31m---------------------------------------------------------------------------\u001b[0m",
      "\u001b[1;31mTypeError\u001b[0m                                 Traceback (most recent call last)",
      "Cell \u001b[1;32mIn[68], line 1\u001b[0m\n\u001b[1;32m----> 1\u001b[0m l\u001b[38;5;241m.\u001b[39msort()\n",
      "\u001b[1;31mTypeError\u001b[0m: '<' not supported between instances of 'str' and 'int'"
     ]
    }
   ],
   "source": [
    "l.sort()"
   ]
  },
  {
   "cell_type": "code",
   "execution_count": 72,
   "id": "98204331-79f2-4698-8f77-09ce9b023330",
   "metadata": {},
   "outputs": [
    {
     "data": {
      "text/plain": [
       "[4, 12, 34, 56, 78]"
      ]
     },
     "execution_count": 72,
     "metadata": {},
     "output_type": "execute_result"
    }
   ],
   "source": [
    "l1=[34,56,12,78,4]\n",
    "l1.sort()\n",
    "l1"
   ]
  },
  {
   "cell_type": "code",
   "execution_count": 73,
   "id": "626a9802-7f81-4315-a87b-6776b385c2c5",
   "metadata": {},
   "outputs": [
    {
     "data": {
      "text/plain": [
       "[78, 56, 34, 12, 4]"
      ]
     },
     "execution_count": 73,
     "metadata": {},
     "output_type": "execute_result"
    }
   ],
   "source": [
    "l1.reverse()\n",
    "l1"
   ]
  },
  {
   "cell_type": "code",
   "execution_count": 74,
   "id": "e16c8812-9ad5-49a3-a005-775a516d436b",
   "metadata": {},
   "outputs": [
    {
     "data": {
      "text/plain": [
       "['a', 'd', 'e', 'z']"
      ]
     },
     "execution_count": 74,
     "metadata": {},
     "output_type": "execute_result"
    }
   ],
   "source": [
    "l2=['d','e','z','a']\n",
    "l2.sort()\n",
    "l2"
   ]
  },
  {
   "cell_type": "code",
   "execution_count": 76,
   "id": "6efdcdf6-47f4-4e96-b372-0812aaa57e9a",
   "metadata": {},
   "outputs": [],
   "source": [
    "#tuple- represented by() and it is immutable and it allows duplicates\n",
    "#indexing and slicing only"
   ]
  },
  {
   "cell_type": "code",
   "execution_count": 77,
   "id": "559236c4-2692-40d3-aa98-35548a4635a1",
   "metadata": {},
   "outputs": [
    {
     "data": {
      "text/plain": [
       "(9, 7, 3)"
      ]
     },
     "execution_count": 77,
     "metadata": {},
     "output_type": "execute_result"
    }
   ],
   "source": [
    "t=(9,7,3)\n",
    "t"
   ]
  },
  {
   "cell_type": "code",
   "execution_count": 78,
   "id": "212d64c8-2888-4f6e-b3ce-1ac7be6aba71",
   "metadata": {},
   "outputs": [
    {
     "data": {
      "text/plain": [
       "tuple"
      ]
     },
     "execution_count": 78,
     "metadata": {},
     "output_type": "execute_result"
    }
   ],
   "source": [
    "type(t)"
   ]
  },
  {
   "cell_type": "code",
   "execution_count": 95,
   "id": "bf3cf73a-1951-4690-81f9-8f8fd8a02f8a",
   "metadata": {},
   "outputs": [
    {
     "data": {
      "text/plain": [
       "0"
      ]
     },
     "execution_count": 95,
     "metadata": {},
     "output_type": "execute_result"
    }
   ],
   "source": [
    "t.count(3)\n"
   ]
  },
  {
   "cell_type": "code",
   "execution_count": 99,
   "id": "e5589fe6-9c2d-4eae-90c1-c99d4db78f7b",
   "metadata": {},
   "outputs": [
    {
     "data": {
      "text/plain": [
       "(6, 3, 1, 5, 1)"
      ]
     },
     "execution_count": 99,
     "metadata": {},
     "output_type": "execute_result"
    }
   ],
   "source": [
    "t=(6,3,1,5,1)\n",
    "t"
   ]
  },
  {
   "cell_type": "code",
   "execution_count": 97,
   "id": "b49bb57a-4a85-469e-b518-8bc6c1313138",
   "metadata": {},
   "outputs": [
    {
     "data": {
      "text/plain": [
       "1"
      ]
     },
     "execution_count": 97,
     "metadata": {},
     "output_type": "execute_result"
    }
   ],
   "source": [
    "t.count(3)"
   ]
  },
  {
   "cell_type": "code",
   "execution_count": 100,
   "id": "5810850a-83a2-4ca8-aa09-f308aa9bb202",
   "metadata": {},
   "outputs": [
    {
     "data": {
      "text/plain": [
       "2"
      ]
     },
     "execution_count": 100,
     "metadata": {},
     "output_type": "execute_result"
    }
   ],
   "source": [
    "t.count(1)"
   ]
  },
  {
   "cell_type": "code",
   "execution_count": null,
   "id": "c43227e1-508e-4058-a7ea-8e8b64da420d",
   "metadata": {},
   "outputs": [],
   "source": []
  }
 ],
 "metadata": {
  "kernelspec": {
   "display_name": "Python 3 (ipykernel)",
   "language": "python",
   "name": "python3"
  },
  "language_info": {
   "codemirror_mode": {
    "name": "ipython",
    "version": 3
   },
   "file_extension": ".py",
   "mimetype": "text/x-python",
   "name": "python",
   "nbconvert_exporter": "python",
   "pygments_lexer": "ipython3",
   "version": "3.12.4"
  }
 },
 "nbformat": 4,
 "nbformat_minor": 5
}
