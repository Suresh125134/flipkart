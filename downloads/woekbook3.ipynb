{
 "cells": [
  {
   "cell_type": "code",
   "execution_count": 1,
   "id": "d4b9f984-22d4-4618-9a5f-6bf3a32c61d8",
   "metadata": {},
   "outputs": [],
   "source": [
    "#functions -it is used for reusing a block of codes again and again"
   ]
  },
  {
   "cell_type": "code",
   "execution_count": 2,
   "id": "6def4622-b11f-4fa8-90bc-17c9c9e95659",
   "metadata": {},
   "outputs": [],
   "source": [
    "#def function():\n",
    "#   statementb 1,\n",
    "#   statement 2"
   ]
  },
  {
   "cell_type": "code",
   "execution_count": 3,
   "id": "56cef20a-6e9a-4cf5-a67d-39f81f828ca4",
   "metadata": {},
   "outputs": [],
   "source": [
    "def add(a,b):\n",
    "    '''\n",
    "    takes 2 mandatory arguments \n",
    "    return the sum of it\n",
    "    '''\n",
    "    return a+b"
   ]
  },
  {
   "cell_type": "code",
   "execution_count": 4,
   "id": "aa12259e-cedb-4de7-babb-790bf0fdc6e8",
   "metadata": {},
   "outputs": [
    {
     "data": {
      "text/plain": [
       "7"
      ]
     },
     "execution_count": 4,
     "metadata": {},
     "output_type": "execute_result"
    }
   ],
   "source": [
    "add(1,6)"
   ]
  },
  {
   "cell_type": "code",
   "execution_count": 5,
   "id": "2d0f3582-bf50-4ae8-a4de-fd0b89b59d88",
   "metadata": {},
   "outputs": [
    {
     "data": {
      "text/plain": [
       "'\\n    takes 2 mandatory arguments \\n    return the sum of it\\n    '"
      ]
     },
     "execution_count": 5,
     "metadata": {},
     "output_type": "execute_result"
    }
   ],
   "source": [
    "add.__doc__"
   ]
  },
  {
   "cell_type": "code",
   "execution_count": 6,
   "id": "67624dab-e594-43ba-bffc-18074ffcc212",
   "metadata": {},
   "outputs": [
    {
     "name": "stdout",
     "output_type": "stream",
     "text": [
      "Help on function add in module __main__:\n",
      "\n",
      "add(a, b)\n",
      "    takes 2 mandatory arguments\n",
      "    return the sum of it\n",
      "\n"
     ]
    }
   ],
   "source": [
    "help(add)"
   ]
  },
  {
   "cell_type": "code",
   "execution_count": 7,
   "id": "a13411ae-4a5b-44a7-97d9-293269aef12f",
   "metadata": {},
   "outputs": [],
   "source": [
    "#optional arguments"
   ]
  },
  {
   "cell_type": "code",
   "execution_count": 8,
   "id": "5292dd18-0b6c-4685-8508-2cd7604145d1",
   "metadata": {},
   "outputs": [],
   "source": [
    "def add(a,b=0):\n",
    "    return a+b"
   ]
  },
  {
   "cell_type": "code",
   "execution_count": 9,
   "id": "592eb5ab-7567-4022-8848-0da006a5147c",
   "metadata": {},
   "outputs": [
    {
     "data": {
      "text/plain": [
       "10"
      ]
     },
     "execution_count": 9,
     "metadata": {},
     "output_type": "execute_result"
    }
   ],
   "source": [
    "add(1,9)\n"
   ]
  },
  {
   "cell_type": "code",
   "execution_count": 10,
   "id": "efa58d38-368f-4603-bc95-05540de2875b",
   "metadata": {},
   "outputs": [
    {
     "data": {
      "text/plain": [
       "9"
      ]
     },
     "execution_count": 10,
     "metadata": {},
     "output_type": "execute_result"
    }
   ],
   "source": [
    "add(9)"
   ]
  },
  {
   "cell_type": "code",
   "execution_count": 11,
   "id": "181dd2d2-b52f-48b7-99e0-2b3ba861af92",
   "metadata": {},
   "outputs": [],
   "source": [
    "def add2(a,b=0):\n",
    "    print(a+b)"
   ]
  },
  {
   "cell_type": "code",
   "execution_count": 12,
   "id": "331cd4c0-e74c-4917-92ab-d7c432e5ca96",
   "metadata": {},
   "outputs": [
    {
     "name": "stdout",
     "output_type": "stream",
     "text": [
      "11\n"
     ]
    }
   ],
   "source": [
    "add2(2,9)"
   ]
  },
  {
   "cell_type": "code",
   "execution_count": 13,
   "id": "7df8634f-2fb5-4863-b6d0-1a996a4f61b3",
   "metadata": {},
   "outputs": [
    {
     "name": "stdout",
     "output_type": "stream",
     "text": [
      "11\n",
      "None\n"
     ]
    }
   ],
   "source": [
    "print(add2(2,9))"
   ]
  },
  {
   "cell_type": "code",
   "execution_count": 14,
   "id": "64996803-6e9d-40b8-91b2-f52e3d804b0b",
   "metadata": {},
   "outputs": [
    {
     "name": "stdout",
     "output_type": "stream",
     "text": [
      "\n",
      "None\n"
     ]
    }
   ],
   "source": [
    "print(print())"
   ]
  },
  {
   "cell_type": "code",
   "execution_count": 15,
   "id": "c509fade-5382-402d-acf5-01207cd05718",
   "metadata": {},
   "outputs": [],
   "source": [
    "def add_mul(a,b):\n",
    "    return a+b,a*b\n",
    "    "
   ]
  },
  {
   "cell_type": "code",
   "execution_count": 16,
   "id": "e1d4e413-3095-4790-a347-d1aac598e263",
   "metadata": {},
   "outputs": [
    {
     "data": {
      "text/plain": [
       "[8, 12]"
      ]
     },
     "execution_count": 16,
     "metadata": {},
     "output_type": "execute_result"
    }
   ],
   "source": [
    "list(add_mul(2,6))"
   ]
  },
  {
   "cell_type": "code",
   "execution_count": 17,
   "id": "2efb0784-3a3c-4af0-bcd0-08be21584f13",
   "metadata": {},
   "outputs": [],
   "source": [
    "#scope of a variable with regard to a function"
   ]
  },
  {
   "cell_type": "code",
   "execution_count": 18,
   "id": "65479e4b-1ef2-44ef-8006-5b7f75bd8396",
   "metadata": {},
   "outputs": [],
   "source": [
    "x=10  #global"
   ]
  },
  {
   "cell_type": "code",
   "execution_count": 19,
   "id": "079dfb70-c3d3-4684-be33-ce568d21db97",
   "metadata": {},
   "outputs": [],
   "source": [
    "def print_():\n",
    "    x=5 #locally definedfor usage in the function\n",
    "    print(x)\n"
   ]
  },
  {
   "cell_type": "code",
   "execution_count": 20,
   "id": "6be4e8dc-20b3-412e-8200-20ab744f2419",
   "metadata": {},
   "outputs": [
    {
     "name": "stdout",
     "output_type": "stream",
     "text": [
      "10\n"
     ]
    }
   ],
   "source": [
    "print(x)"
   ]
  },
  {
   "cell_type": "code",
   "execution_count": 21,
   "id": "8312fbba-1f6a-4507-97ac-2da79494cb98",
   "metadata": {},
   "outputs": [
    {
     "name": "stdout",
     "output_type": "stream",
     "text": [
      "5\n"
     ]
    }
   ],
   "source": [
    "print_()"
   ]
  },
  {
   "cell_type": "code",
   "execution_count": 22,
   "id": "8cbf189a-c585-42e0-8ea8-f61c9ebf23c5",
   "metadata": {},
   "outputs": [],
   "source": [
    "#variable length arguments"
   ]
  },
  {
   "cell_type": "code",
   "execution_count": 23,
   "id": "36639b07-b772-4301-bf96-2dd656aa632f",
   "metadata": {},
   "outputs": [],
   "source": [
    "def add_variable_no_of_inp(*args):\n",
    "    print(type(args))\n",
    "    return sum(args)"
   ]
  },
  {
   "cell_type": "code",
   "execution_count": 24,
   "id": "9743ad5b-9414-465c-b434-7d265e02a5f7",
   "metadata": {},
   "outputs": [
    {
     "name": "stdout",
     "output_type": "stream",
     "text": [
      "<class 'tuple'>\n"
     ]
    },
    {
     "data": {
      "text/plain": [
       "20"
      ]
     },
     "execution_count": 24,
     "metadata": {},
     "output_type": "execute_result"
    }
   ],
   "source": [
    "add_variable_no_of_inp(2,3,5,10)"
   ]
  },
  {
   "cell_type": "code",
   "execution_count": 25,
   "id": "02e2962f-be3b-45d2-a619-d958f30f065f",
   "metadata": {},
   "outputs": [],
   "source": [
    "def variable_arg_demo2(**kwargs):\n",
    "    print(type(kwargs))\n",
    "    print(kwargs.keys())\n",
    "    print(kwargs.values())"
   ]
  },
  {
   "cell_type": "code",
   "execution_count": 26,
   "id": "f6fd9663-ea73-41ab-8f24-a45226ec5e8b",
   "metadata": {},
   "outputs": [
    {
     "name": "stdout",
     "output_type": "stream",
     "text": [
      "<class 'dict'>\n",
      "dict_keys(['a', 'b', 'c'])\n",
      "dict_values([2, 3, 5])\n"
     ]
    }
   ],
   "source": [
    "variable_arg_demo2(a=2,b=3,c=5)"
   ]
  },
  {
   "cell_type": "code",
   "execution_count": 27,
   "id": "c8b5f415-e521-4247-be70-00ed3059b65e",
   "metadata": {},
   "outputs": [
    {
     "ename": "TypeError",
     "evalue": "variable_arg_demo2() takes 0 positional arguments but 3 were given",
     "output_type": "error",
     "traceback": [
      "\u001b[1;31m---------------------------------------------------------------------------\u001b[0m",
      "\u001b[1;31mTypeError\u001b[0m                                 Traceback (most recent call last)",
      "Cell \u001b[1;32mIn[27], line 1\u001b[0m\n\u001b[1;32m----> 1\u001b[0m variable_arg_demo2(\u001b[38;5;241m2\u001b[39m,\u001b[38;5;241m3\u001b[39m,\u001b[38;5;241m5\u001b[39m)\n",
      "\u001b[1;31mTypeError\u001b[0m: variable_arg_demo2() takes 0 positional arguments but 3 were given"
     ]
    }
   ],
   "source": [
    "variable_arg_demo2(2,3,5)"
   ]
  },
  {
   "cell_type": "code",
   "execution_count": null,
   "id": "bf122086-1b03-4cb8-9842-8e4a66096b2d",
   "metadata": {},
   "outputs": [],
   "source": [
    "#recursive function --- A function which calls itself"
   ]
  },
  {
   "cell_type": "code",
   "execution_count": null,
   "id": "d263fe48-8f03-43a4-b033-397be2810860",
   "metadata": {},
   "outputs": [],
   "source": [
    "#factorial of a number using recursive function"
   ]
  },
  {
   "cell_type": "code",
   "execution_count": null,
   "id": "6973e080-dd86-45fc-8dac-85a3cd29b898",
   "metadata": {},
   "outputs": [],
   "source": [
    "def fact(n):\n",
    "    if n==0:\n",
    "        return 1\n",
    "    else:\n",
    "        return n*fact(n-1)\n",
    "        "
   ]
  },
  {
   "cell_type": "code",
   "execution_count": null,
   "id": "7035b035-d63b-4302-b3ed-6dd32f7a621b",
   "metadata": {},
   "outputs": [],
   "source": [
    "fact(5)"
   ]
  },
  {
   "cell_type": "code",
   "execution_count": null,
   "id": "6509d888-be5a-4447-b8a5-24c75491daa9",
   "metadata": {},
   "outputs": [],
   "source": [
    "#lambda function : single line functions, it can have only 1 expression, anonymous"
   ]
  },
  {
   "cell_type": "code",
   "execution_count": null,
   "id": "88fcf6cf-7ec3-4a13-8abd-c3f3f4a48e1e",
   "metadata": {},
   "outputs": [],
   "source": [
    "a=lambda x:x*x\n"
   ]
  },
  {
   "cell_type": "code",
   "execution_count": null,
   "id": "03c5c4b9-38ad-456d-81ba-dcc056aa7515",
   "metadata": {},
   "outputs": [],
   "source": [
    "a(3)"
   ]
  },
  {
   "cell_type": "code",
   "execution_count": null,
   "id": "5c6724e7-1ad6-4fd2-a687-3f1b05110039",
   "metadata": {},
   "outputs": [],
   "source": [
    "sm=lambda a,b:a+b"
   ]
  },
  {
   "cell_type": "code",
   "execution_count": null,
   "id": "38eb7b1c-4af2-4fec-a39f-3aece0bc74df",
   "metadata": {},
   "outputs": [],
   "source": [
    "sm(3,8)"
   ]
  },
  {
   "cell_type": "code",
   "execution_count": null,
   "id": "f9b7d1a0-3910-4cd3-9fa1-12a92a4dac93",
   "metadata": {},
   "outputs": [],
   "source": [
    "c,d=6,'y'  #multiple assignment"
   ]
  },
  {
   "cell_type": "code",
   "execution_count": null,
   "id": "5faa3cc5-e91f-4018-a029-4e36f8d0ab79",
   "metadata": {},
   "outputs": [],
   "source": [
    "c"
   ]
  },
  {
   "cell_type": "code",
   "execution_count": null,
   "id": "e0b35103-4e2f-4869-8696-219defced8bf",
   "metadata": {},
   "outputs": [],
   "source": [
    "d"
   ]
  },
  {
   "cell_type": "code",
   "execution_count": null,
   "id": "2efd6c54-ab76-414b-8b6f-734ca50c3cd8",
   "metadata": {},
   "outputs": [],
   "source": [
    "#some important inbuilt functions and their usage"
   ]
  },
  {
   "cell_type": "code",
   "execution_count": null,
   "id": "7b8f9f97-5e1e-4610-857f-8c7bcf309027",
   "metadata": {},
   "outputs": [],
   "source": [
    "#map function"
   ]
  },
  {
   "cell_type": "code",
   "execution_count": null,
   "id": "cffb024b-3056-43c5-b803-67c5ca58ae8b",
   "metadata": {},
   "outputs": [],
   "source": [
    "l1=[2,3,4,5]"
   ]
  },
  {
   "cell_type": "code",
   "execution_count": null,
   "id": "9d38ea60-093d-4b19-9a96-9b43625331c4",
   "metadata": {},
   "outputs": [],
   "source": [
    "a=lambda x:x*x\n",
    "map(a,l1)"
   ]
  },
  {
   "cell_type": "code",
   "execution_count": null,
   "id": "5599ec8c-14b7-4b49-9564-6f656626eda2",
   "metadata": {},
   "outputs": [],
   "source": [
    "list(map(a,l1))"
   ]
  },
  {
   "cell_type": "code",
   "execution_count": null,
   "id": "fdbb4ca2-19e1-4f81-ad14-d1b2186f69ea",
   "metadata": {},
   "outputs": [],
   "source": [
    "#length -- it returns the length of an interable"
   ]
  },
  {
   "cell_type": "code",
   "execution_count": null,
   "id": "8334130c-36ea-4df3-9fbf-af5e45effa76",
   "metadata": {},
   "outputs": [],
   "source": [
    "l2=['abc','cdef']\n",
    "list(map(len,l2))"
   ]
  },
  {
   "cell_type": "code",
   "execution_count": null,
   "id": "0fc3f837-ca35-430f-8008-c0d77fa24cf9",
   "metadata": {},
   "outputs": [],
   "source": [
    "def add(a,b):\n",
    "    return a+b"
   ]
  },
  {
   "cell_type": "code",
   "execution_count": null,
   "id": "77a5ca28-e905-46cb-8dbc-fa2e60b0e0d7",
   "metadata": {},
   "outputs": [],
   "source": [
    "l3=[1,2,3,4]\n",
    "l4=[5,6,7]"
   ]
  },
  {
   "cell_type": "code",
   "execution_count": null,
   "id": "57ca8215-1cad-42fe-a289-5c5a37160514",
   "metadata": {},
   "outputs": [],
   "source": [
    "list(map(add,l3,l4))"
   ]
  },
  {
   "cell_type": "code",
   "execution_count": null,
   "id": "65554e75-f583-4f27-97bb-7db4108db0eb",
   "metadata": {},
   "outputs": [],
   "source": [
    "#split function - written as stringname.split()"
   ]
  },
  {
   "cell_type": "code",
   "execution_count": null,
   "id": "d3fa6ecf-319e-4271-99be-1a399b18dd0f",
   "metadata": {},
   "outputs": [],
   "source": [
    "ex='Hi, I am learning, functions in, python'\n"
   ]
  },
  {
   "cell_type": "code",
   "execution_count": null,
   "id": "155ef292-468a-423b-a077-65ffa476f79c",
   "metadata": {},
   "outputs": [],
   "source": [
    "ex.split()"
   ]
  },
  {
   "cell_type": "code",
   "execution_count": null,
   "id": "26e365fb-f402-4915-b590-436d08d70261",
   "metadata": {},
   "outputs": [],
   "source": [
    "ex.split('a')"
   ]
  },
  {
   "cell_type": "code",
   "execution_count": null,
   "id": "c0bd250e-ceca-441e-a945-abd0a349b1cc",
   "metadata": {},
   "outputs": [],
   "source": [
    "ex.split(',')"
   ]
  },
  {
   "cell_type": "code",
   "execution_count": null,
   "id": "ef301d78-f9f5-490b-9e26-4e106f9037f0",
   "metadata": {},
   "outputs": [],
   "source": [
    "inp=input().split()"
   ]
  },
  {
   "cell_type": "code",
   "execution_count": null,
   "id": "6a756a30-f60a-4da7-ba5b-70f45dac7398",
   "metadata": {},
   "outputs": [],
   "source": [
    "inp"
   ]
  },
  {
   "cell_type": "code",
   "execution_count": null,
   "id": "27f4776d-e431-4d81-8635-53a7cc1eeb08",
   "metadata": {},
   "outputs": [],
   "source": [
    "inp=list(map(int,input().split()))"
   ]
  },
  {
   "cell_type": "code",
   "execution_count": null,
   "id": "71e21759-fc89-478b-bbce-6b3d89c9260c",
   "metadata": {},
   "outputs": [],
   "source": [
    "inp\n"
   ]
  },
  {
   "cell_type": "code",
   "execution_count": null,
   "id": "054aa8f6-6200-4c44-9ffe-8b2c198bba2e",
   "metadata": {},
   "outputs": [],
   "source": [
    "inp=list(input().split())"
   ]
  },
  {
   "cell_type": "code",
   "execution_count": null,
   "id": "ed5bff45-a769-408f-b171-bc4ca4a6acfa",
   "metadata": {},
   "outputs": [],
   "source": [
    "inp"
   ]
  },
  {
   "cell_type": "code",
   "execution_count": null,
   "id": "3c5522d5-d565-4805-9500-f60f98d7ac52",
   "metadata": {},
   "outputs": [],
   "source": [
    "inp=list(map(int,input('enter the integers: ').split()))"
   ]
  },
  {
   "cell_type": "code",
   "execution_count": null,
   "id": "63346888-fb1a-41cf-95bb-cc0fe5bd9a83",
   "metadata": {},
   "outputs": [],
   "source": [
    "inp"
   ]
  },
  {
   "cell_type": "code",
   "execution_count": null,
   "id": "4eab5b38-d4a1-4e2f-96e4-3d65b653ecb4",
   "metadata": {},
   "outputs": [],
   "source": [
    "a=input()"
   ]
  },
  {
   "cell_type": "code",
   "execution_count": null,
   "id": "10a78564-99c5-45bc-a9d3-651f9edb2df7",
   "metadata": {},
   "outputs": [],
   "source": [
    "a"
   ]
  },
  {
   "cell_type": "code",
   "execution_count": null,
   "id": "14a7a3d6-2db3-40d3-b012-827c24b8b268",
   "metadata": {},
   "outputs": [],
   "source": [
    "b=a.split()"
   ]
  },
  {
   "cell_type": "code",
   "execution_count": null,
   "id": "f594efaa-8c5f-449a-87a4-e1a10d3c128b",
   "metadata": {},
   "outputs": [],
   "source": [
    "b"
   ]
  },
  {
   "cell_type": "code",
   "execution_count": null,
   "id": "fc34c106-4e47-40eb-89d5-459d353289a5",
   "metadata": {},
   "outputs": [],
   "source": [
    "c=list(map(int,input('enter numbers separated by space: ').split()))"
   ]
  },
  {
   "cell_type": "code",
   "execution_count": null,
   "id": "4b74cb72-7580-4aae-926e-c7fdd13a386d",
   "metadata": {},
   "outputs": [],
   "source": [
    "c"
   ]
  },
  {
   "cell_type": "markdown",
   "id": "37ebb18e-438b-4b59-81ba-29afd7ec39e8",
   "metadata": {},
   "source": [
    "***modules***"
   ]
  },
  {
   "cell_type": "code",
   "execution_count": null,
   "id": "4f91bce0-0aa5-4e3a-9cea-54e947fc8e11",
   "metadata": {},
   "outputs": [],
   "source": [
    "from calc import ad "
   ]
  },
  {
   "cell_type": "code",
   "execution_count": null,
   "id": "8898d7bc-6d26-4596-9cb3-752fa69f5f20",
   "metadata": {},
   "outputs": [],
   "source": [
    "ad(5,2)"
   ]
  },
  {
   "cell_type": "code",
   "execution_count": null,
   "id": "95cef916-6709-42ec-8930-d24b4a8fd4a1",
   "metadata": {},
   "outputs": [],
   "source": [
    "from calc import *"
   ]
  },
  {
   "cell_type": "code",
   "execution_count": null,
   "id": "c873cec5-0bf7-4d0c-ac0f-8b0c2b4a53d3",
   "metadata": {},
   "outputs": [],
   "source": [
    "div(2,5)"
   ]
  },
  {
   "cell_type": "code",
   "execution_count": 28,
   "id": "b76b0315-19cb-49d3-83ff-8b974bdec273",
   "metadata": {},
   "outputs": [
    {
     "ename": "NameError",
     "evalue": "name 'mul' is not defined",
     "output_type": "error",
     "traceback": [
      "\u001b[1;31m---------------------------------------------------------------------------\u001b[0m",
      "\u001b[1;31mNameError\u001b[0m                                 Traceback (most recent call last)",
      "Cell \u001b[1;32mIn[28], line 1\u001b[0m\n\u001b[1;32m----> 1\u001b[0m mul(\u001b[38;5;241m5\u001b[39m,\u001b[38;5;241m6\u001b[39m)\n",
      "\u001b[1;31mNameError\u001b[0m: name 'mul' is not defined"
     ]
    }
   ],
   "source": [
    "mul(5,6)"
   ]
  },
  {
   "cell_type": "code",
   "execution_count": 29,
   "id": "fa03f3ae-3a27-4fb1-9061-3d11f1a755a7",
   "metadata": {},
   "outputs": [],
   "source": [
    "import calc"
   ]
  },
  {
   "cell_type": "code",
   "execution_count": 31,
   "id": "5e326c10-6f2a-4d82-a340-c36a88cddb11",
   "metadata": {},
   "outputs": [
    {
     "data": {
      "text/plain": [
       "7"
      ]
     },
     "execution_count": 31,
     "metadata": {},
     "output_type": "execute_result"
    }
   ],
   "source": [
    "calc.ad(3,4)"
   ]
  },
  {
   "cell_type": "code",
   "execution_count": 32,
   "id": "65b35955-501d-44ab-bf3d-8be2a7bd6604",
   "metadata": {},
   "outputs": [],
   "source": [
    "import calc as c"
   ]
  },
  {
   "cell_type": "code",
   "execution_count": 33,
   "id": "078f39c8-e24a-4969-aa50-707875e98d97",
   "metadata": {},
   "outputs": [
    {
     "data": {
      "text/plain": [
       "30"
      ]
     },
     "execution_count": 33,
     "metadata": {},
     "output_type": "execute_result"
    }
   ],
   "source": [
    "c.mul(5,6)"
   ]
  },
  {
   "cell_type": "code",
   "execution_count": null,
   "id": "65e1d6c4-fce7-4437-a9d4-2b96cbf1de5c",
   "metadata": {},
   "outputs": [],
   "source": []
  }
 ],
 "metadata": {
  "kernelspec": {
   "display_name": "Python 3 (ipykernel)",
   "language": "python",
   "name": "python3"
  },
  "language_info": {
   "codemirror_mode": {
    "name": "ipython",
    "version": 3
   },
   "file_extension": ".py",
   "mimetype": "text/x-python",
   "name": "python",
   "nbconvert_exporter": "python",
   "pygments_lexer": "ipython3",
   "version": "3.12.4"
  }
 },
 "nbformat": 4,
 "nbformat_minor": 5
}
