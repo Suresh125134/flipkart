{
 "cells": [
  {
   "cell_type": "markdown",
   "id": "75ae005f-43ce-4c99-a4b7-f28019842cd0",
   "metadata": {},
   "source": [
    "***classes***\n"
   ]
  },
  {
   "cell_type": "code",
   "execution_count": 1,
   "id": "95ee98ab-a047-430d-8207-b4efcb9a1897",
   "metadata": {},
   "outputs": [],
   "source": [
    "a=5"
   ]
  },
  {
   "cell_type": "code",
   "execution_count": 2,
   "id": "71542396-57e3-4b31-aaa9-94e76800eff7",
   "metadata": {},
   "outputs": [
    {
     "data": {
      "text/plain": [
       "int"
      ]
     },
     "execution_count": 2,
     "metadata": {},
     "output_type": "execute_result"
    }
   ],
   "source": [
    "type(a)"
   ]
  },
  {
   "cell_type": "code",
   "execution_count": 3,
   "id": "9485ffb9-59b8-459c-9ebd-33670f48e8f8",
   "metadata": {},
   "outputs": [
    {
     "name": "stdout",
     "output_type": "stream",
     "text": [
      "<class 'int'>\n"
     ]
    }
   ],
   "source": [
    "print(type(a))"
   ]
  },
  {
   "cell_type": "code",
   "execution_count": 4,
   "id": "2dd7def3-4315-438d-b69b-1d8394d35006",
   "metadata": {},
   "outputs": [
    {
     "data": {
      "text/plain": [
       "9"
      ]
     },
     "execution_count": 4,
     "metadata": {},
     "output_type": "execute_result"
    }
   ],
   "source": [
    "a+4\n"
   ]
  },
  {
   "cell_type": "code",
   "execution_count": 5,
   "id": "a72b5721-6910-4f84-8533-102da6fb0d7d",
   "metadata": {},
   "outputs": [],
   "source": [
    "#class--- It is a blueprint for creating any objects/instance. It is an user defined data type\n"
   ]
  },
  {
   "cell_type": "code",
   "execution_count": null,
   "id": "76a5c706-3cd7-4686-8264-038f8dd8e3c4",
   "metadata": {},
   "outputs": [],
   "source": [
    "class demo:"
   ]
  },
  {
   "cell_type": "code",
   "execution_count": null,
   "id": "6cc3d06d-ddb0-49e4-850b-ac6a6350344e",
   "metadata": {},
   "outputs": [],
   "source": [
    "class demo():"
   ]
  },
  {
   "cell_type": "code",
   "execution_count": null,
   "id": "6ea54ef6-2160-492d-b78f-96ebc8988903",
   "metadata": {},
   "outputs": [],
   "source": [
    "class demo(object):"
   ]
  },
  {
   "cell_type": "code",
   "execution_count": 9,
   "id": "3827db5a-08e0-4a8a-9490-682cb11f5d38",
   "metadata": {},
   "outputs": [],
   "source": [
    "#varaibles and functions inside a class ---- attributes , methods"
   ]
  },
  {
   "cell_type": "code",
   "execution_count": 10,
   "id": "405815a8-1d7d-43f1-8f8b-4ddacae247de",
   "metadata": {},
   "outputs": [],
   "source": [
    "s='Hi Today is Ind day'"
   ]
  },
  {
   "cell_type": "code",
   "execution_count": 11,
   "id": "1c93ef82-5a64-4308-89fa-d373e3468df7",
   "metadata": {},
   "outputs": [
    {
     "data": {
      "text/plain": [
       "19"
      ]
     },
     "execution_count": 11,
     "metadata": {},
     "output_type": "execute_result"
    }
   ],
   "source": [
    "len(s)"
   ]
  },
  {
   "cell_type": "code",
   "execution_count": 12,
   "id": "b6d24b7d-ea3d-41ba-9e8d-6f9b7f0b229a",
   "metadata": {},
   "outputs": [
    {
     "data": {
      "text/plain": [
       "['Hi', 'Today', 'is', 'Ind', 'day']"
      ]
     },
     "execution_count": 12,
     "metadata": {},
     "output_type": "execute_result"
    }
   ],
   "source": [
    "s.split()"
   ]
  },
  {
   "cell_type": "code",
   "execution_count": 19,
   "id": "378c8aee-105a-4910-9128-8171df4168c9",
   "metadata": {},
   "outputs": [],
   "source": [
    "class demo:\n",
    "    def update_value(self,n):\n",
    "        self.x=n\n",
    "    def print_value(self):\n",
    "        print(self.x)"
   ]
  },
  {
   "cell_type": "code",
   "execution_count": 21,
   "id": "dde662bd-2d46-4075-a3d4-5c5cc4747495",
   "metadata": {},
   "outputs": [],
   "source": [
    "ob1=demo()"
   ]
  },
  {
   "cell_type": "code",
   "execution_count": 25,
   "id": "b9d94c4b-2407-4f11-a8c5-3c55bd878257",
   "metadata": {},
   "outputs": [],
   "source": [
    "ob1.update_value(2)"
   ]
  },
  {
   "cell_type": "code",
   "execution_count": 27,
   "id": "d60300bd-ecff-4897-aaf9-5aeb24b9b501",
   "metadata": {},
   "outputs": [
    {
     "name": "stdout",
     "output_type": "stream",
     "text": [
      "2\n"
     ]
    }
   ],
   "source": [
    "ob1.print_value()"
   ]
  },
  {
   "cell_type": "code",
   "execution_count": 24,
   "id": "aa6bd0e4-6aa1-47fd-a7ac-668a64d89706",
   "metadata": {},
   "outputs": [],
   "source": [
    "ob2=demo()"
   ]
  },
  {
   "cell_type": "code",
   "execution_count": 28,
   "id": "8cac1a55-5601-4c6b-8172-e9a7c0e21f3b",
   "metadata": {},
   "outputs": [],
   "source": [
    "ob2.update_value(3)"
   ]
  },
  {
   "cell_type": "code",
   "execution_count": 29,
   "id": "07117026-6910-4b3e-b544-e0f86e74fb87",
   "metadata": {},
   "outputs": [
    {
     "name": "stdout",
     "output_type": "stream",
     "text": [
      "3\n"
     ]
    }
   ],
   "source": [
    "ob2.print_value()"
   ]
  },
  {
   "cell_type": "code",
   "execution_count": 30,
   "id": "9e0c80e2-262e-4de1-990d-4a8ad2923476",
   "metadata": {},
   "outputs": [],
   "source": [
    "#self   ----- It is used for references to the object of the class"
   ]
  },
  {
   "cell_type": "code",
   "execution_count": 31,
   "id": "25c01463-5a25-4a02-a7d6-f2cc7dce93f1",
   "metadata": {},
   "outputs": [],
   "source": [
    "class demo:\n",
    "    def update_value(self,n):\n",
    "        self.x=n\n",
    "    def print_value(self):\n",
    "        print(self.x)\n"
   ]
  },
  {
   "cell_type": "code",
   "execution_count": 33,
   "id": "e24020e0-c931-4d93-9ae2-f81a12ac9531",
   "metadata": {},
   "outputs": [],
   "source": [
    "ob=demo()"
   ]
  },
  {
   "cell_type": "code",
   "execution_count": 34,
   "id": "88f5c7cb-f10a-4128-85e6-30e9235c8196",
   "metadata": {},
   "outputs": [],
   "source": [
    "ob.update_value(2)"
   ]
  },
  {
   "cell_type": "code",
   "execution_count": 35,
   "id": "ef2b396f-4767-4b9b-a416-b3c62b5cd37a",
   "metadata": {},
   "outputs": [
    {
     "name": "stdout",
     "output_type": "stream",
     "text": [
      "2\n"
     ]
    }
   ],
   "source": [
    "ob.print_value()"
   ]
  },
  {
   "cell_type": "code",
   "execution_count": 36,
   "id": "2d9708e7-dc80-41ed-8509-d14c9d7aa323",
   "metadata": {},
   "outputs": [],
   "source": [
    "#__init__() ---- constructor of the calss, excecuted when we create the instance of the class"
   ]
  },
  {
   "cell_type": "code",
   "execution_count": 37,
   "id": "7cc9f147-b06e-41f2-a2c0-e348a9ed574c",
   "metadata": {},
   "outputs": [],
   "source": [
    "class demo2:\n",
    "    def __init__(self,n):\n",
    "        self.x=n\n",
    "    def update_value(self,b):\n",
    "        self.x=b\n",
    "    def print_value(self):\n",
    "        print(self.x)"
   ]
  },
  {
   "cell_type": "code",
   "execution_count": 43,
   "id": "214c3921-8145-43f7-ad84-412e5ccca7ba",
   "metadata": {},
   "outputs": [],
   "source": [
    "obj1=demo2(10)"
   ]
  },
  {
   "cell_type": "code",
   "execution_count": 44,
   "id": "90327f19-c3e9-470f-9368-4d6fe40f3c2a",
   "metadata": {},
   "outputs": [
    {
     "name": "stdout",
     "output_type": "stream",
     "text": [
      "10\n"
     ]
    }
   ],
   "source": [
    "obj1.print_value()"
   ]
  },
  {
   "cell_type": "code",
   "execution_count": 45,
   "id": "a6844570-b4f8-4a7e-8b6b-01ede86138fe",
   "metadata": {},
   "outputs": [],
   "source": [
    "#inheritance"
   ]
  },
  {
   "cell_type": "code",
   "execution_count": 46,
   "id": "d9f5e7eb-0112-436b-8df6-d1a29cdea5f6",
   "metadata": {},
   "outputs": [],
   "source": [
    "class animal:\n",
    "    def __init__(self,age):\n",
    "        self.age=age\n",
    "    def get_age(self):\n",
    "        print(f'my age is {self.age} years')\n",
    "   "
   ]
  },
  {
   "cell_type": "code",
   "execution_count": 49,
   "id": "efe50588-59c5-4fa0-b33d-b545c713187f",
   "metadata": {},
   "outputs": [],
   "source": [
    "ob_animal=animal(4)"
   ]
  },
  {
   "cell_type": "code",
   "execution_count": 50,
   "id": "c5889c52-4d08-4e5c-91d0-0431ef46a391",
   "metadata": {},
   "outputs": [
    {
     "name": "stdout",
     "output_type": "stream",
     "text": [
      "my age is 4 years\n"
     ]
    }
   ],
   "source": [
    "ob_animal.get_age()"
   ]
  },
  {
   "cell_type": "code",
   "execution_count": 51,
   "id": "be78d638-a402-4d36-955d-f90c293a1552",
   "metadata": {},
   "outputs": [],
   "source": [
    "class dog(animal):\n",
    "    def sound(self):\n",
    "        print('bark')\n",
    "    "
   ]
  },
  {
   "cell_type": "code",
   "execution_count": 52,
   "id": "b8f7aa91-6e39-452c-b447-6df692ea77b5",
   "metadata": {},
   "outputs": [],
   "source": [
    "ob_dog=dog(5)"
   ]
  },
  {
   "cell_type": "code",
   "execution_count": 53,
   "id": "d1a96a55-ec1c-41ef-9441-0cfe97d4f48a",
   "metadata": {},
   "outputs": [
    {
     "name": "stdout",
     "output_type": "stream",
     "text": [
      "my age is 5 years\n"
     ]
    }
   ],
   "source": [
    "ob_dog.get_age()"
   ]
  },
  {
   "cell_type": "code",
   "execution_count": 55,
   "id": "de30916f-2c4e-4eae-a8e0-d2bb64e2ce3e",
   "metadata": {},
   "outputs": [
    {
     "name": "stdout",
     "output_type": "stream",
     "text": [
      "bark\n"
     ]
    }
   ],
   "source": [
    "ob_dog.sound()"
   ]
  },
  {
   "cell_type": "code",
   "execution_count": 56,
   "id": "e9562f3f-8051-442e-8e8e-35af9db784c1",
   "metadata": {},
   "outputs": [],
   "source": [
    "#polymorphism"
   ]
  },
  {
   "cell_type": "code",
   "execution_count": 57,
   "id": "8987ec72-dfb4-4f15-a462-3720c413aa06",
   "metadata": {},
   "outputs": [],
   "source": [
    "a,b=5,10"
   ]
  },
  {
   "cell_type": "code",
   "execution_count": 58,
   "id": "04272df4-5194-4cdb-974c-7cd9e85e06b2",
   "metadata": {},
   "outputs": [
    {
     "data": {
      "text/plain": [
       "15"
      ]
     },
     "execution_count": 58,
     "metadata": {},
     "output_type": "execute_result"
    }
   ],
   "source": [
    "a+b"
   ]
  },
  {
   "cell_type": "code",
   "execution_count": 59,
   "id": "bbe4d154-3a81-42eb-9533-a2658195d7b9",
   "metadata": {},
   "outputs": [],
   "source": [
    "c,d='abc','zxv'"
   ]
  },
  {
   "cell_type": "code",
   "execution_count": 60,
   "id": "16301c5e-9a24-471e-a953-b167d98c8b41",
   "metadata": {},
   "outputs": [
    {
     "data": {
      "text/plain": [
       "'abczxv'"
      ]
     },
     "execution_count": 60,
     "metadata": {},
     "output_type": "execute_result"
    }
   ],
   "source": [
    "c+d"
   ]
  },
  {
   "cell_type": "code",
   "execution_count": 61,
   "id": "ced9cb73-4534-4eb3-bb55-de1590fb598d",
   "metadata": {},
   "outputs": [],
   "source": [
    "def a(n):\n",
    "    return n*n*n"
   ]
  },
  {
   "cell_type": "code",
   "execution_count": 62,
   "id": "1d4eed1a-a450-477c-a788-321dc68bc530",
   "metadata": {},
   "outputs": [
    {
     "data": {
      "text/plain": [
       "27"
      ]
     },
     "execution_count": 62,
     "metadata": {},
     "output_type": "execute_result"
    }
   ],
   "source": [
    "a(3)"
   ]
  },
  {
   "cell_type": "code",
   "execution_count": 63,
   "id": "90e2b6bb-71ff-4dae-8f5b-9ba78739fa23",
   "metadata": {},
   "outputs": [
    {
     "data": {
      "text/plain": [
       "3"
      ]
     },
     "execution_count": 63,
     "metadata": {},
     "output_type": "execute_result"
    }
   ],
   "source": [
    "len([1,2,3])"
   ]
  },
  {
   "cell_type": "code",
   "execution_count": 64,
   "id": "2068d053-af4a-444c-b9a4-a0a65e53b459",
   "metadata": {},
   "outputs": [],
   "source": [
    "def len(a):\n",
    "    return a*a"
   ]
  },
  {
   "cell_type": "code",
   "execution_count": 65,
   "id": "3a48829c-c128-40c6-b8cf-1e53f4214b89",
   "metadata": {},
   "outputs": [
    {
     "data": {
      "text/plain": [
       "9"
      ]
     },
     "execution_count": 65,
     "metadata": {},
     "output_type": "execute_result"
    }
   ],
   "source": [
    "len(3)"
   ]
  },
  {
   "cell_type": "code",
   "execution_count": 66,
   "id": "1d1fdbad-dad2-4628-aa1a-de8185d94b8a",
   "metadata": {},
   "outputs": [],
   "source": [
    "class cat(animal):\n",
    "    def  get_age(self):\n",
    "        super().get_age()\n",
    "        print('moew')"
   ]
  },
  {
   "cell_type": "code",
   "execution_count": 67,
   "id": "e8fa2eb3-fa2f-4022-a0cc-e4fe9b490753",
   "metadata": {},
   "outputs": [],
   "source": [
    "ob_cat=cat(3)"
   ]
  },
  {
   "cell_type": "code",
   "execution_count": 68,
   "id": "ed0ba057-5a71-420b-815b-8fe428b683c7",
   "metadata": {},
   "outputs": [
    {
     "name": "stdout",
     "output_type": "stream",
     "text": [
      "my age is 3 years\n",
      "moew\n"
     ]
    }
   ],
   "source": [
    "ob_cat.get_age()"
   ]
  },
  {
   "cell_type": "code",
   "execution_count": 69,
   "id": "12e272f7-980d-48ff-81ef-0a7850671868",
   "metadata": {},
   "outputs": [],
   "source": [
    "class cow(animal):\n",
    "    def get_age(self):\n",
    "        animal.get_age(self)\n",
    "        print('oooo')"
   ]
  },
  {
   "cell_type": "code",
   "execution_count": 70,
   "id": "9c0778f9-ab1d-4937-a689-1a323e563ca3",
   "metadata": {},
   "outputs": [],
   "source": [
    "ob_cow=cow(10)"
   ]
  },
  {
   "cell_type": "code",
   "execution_count": 71,
   "id": "2a7980ad-ae0c-46f6-813f-8d64c692be7b",
   "metadata": {},
   "outputs": [
    {
     "name": "stdout",
     "output_type": "stream",
     "text": [
      "my age is 10 years\n",
      "oooo\n"
     ]
    }
   ],
   "source": [
    "ob_cow.get_age()"
   ]
  },
  {
   "cell_type": "code",
   "execution_count": 72,
   "id": "55eddcb6-1dc3-4ea0-9f90-1ace0e3a5ea5",
   "metadata": {},
   "outputs": [],
   "source": [
    "#encapsulation --- private,protected and public"
   ]
  },
  {
   "cell_type": "code",
   "execution_count": 75,
   "id": "55c1ff9e-0104-4993-b268-496e55f91235",
   "metadata": {},
   "outputs": [],
   "source": [
    "class encap:\n",
    "    def __init__(self,x,y,z):\n",
    "        self.__x=x\n",
    "        self._y=y\n",
    "        self.z=z\n",
    "    def __pri(self):\n",
    "        print('private method')\n",
    "    def _pro(self):\n",
    "        print('protected method')\n",
    "    def pub(self):\n",
    "        print('public method')\n",
    "    "
   ]
  },
  {
   "cell_type": "code",
   "execution_count": 76,
   "id": "0476f04d-84fc-4670-b559-c37ed6b52e94",
   "metadata": {},
   "outputs": [],
   "source": [
    "ob=encap(10,15,20)"
   ]
  },
  {
   "cell_type": "code",
   "execution_count": 77,
   "id": "3537e29b-b005-46ff-90e3-6e8115af22ee",
   "metadata": {},
   "outputs": [
    {
     "name": "stdout",
     "output_type": "stream",
     "text": [
      "private method\n"
     ]
    }
   ],
   "source": [
    "ob._encap__pri()"
   ]
  },
  {
   "cell_type": "code",
   "execution_count": 78,
   "id": "edf36f40-87a3-436a-9a2f-bbf723497232",
   "metadata": {},
   "outputs": [
    {
     "name": "stdout",
     "output_type": "stream",
     "text": [
      "protected method\n"
     ]
    }
   ],
   "source": [
    "ob._pro()"
   ]
  },
  {
   "cell_type": "code",
   "execution_count": 79,
   "id": "efa0c23d-f132-4dad-b90e-b4989b335513",
   "metadata": {},
   "outputs": [
    {
     "name": "stdout",
     "output_type": "stream",
     "text": [
      "public method\n"
     ]
    }
   ],
   "source": [
    "ob.pub()"
   ]
  },
  {
   "cell_type": "code",
   "execution_count": null,
   "id": "3b51d309-41e3-4a36-9330-c2e8805db78d",
   "metadata": {},
   "outputs": [],
   "source": []
  }
 ],
 "metadata": {
  "kernelspec": {
   "display_name": "Python 3 (ipykernel)",
   "language": "python",
   "name": "python3"
  },
  "language_info": {
   "codemirror_mode": {
    "name": "ipython",
    "version": 3
   },
   "file_extension": ".py",
   "mimetype": "text/x-python",
   "name": "python",
   "nbconvert_exporter": "python",
   "pygments_lexer": "ipython3",
   "version": "3.12.4"
  }
 },
 "nbformat": 4,
 "nbformat_minor": 5
}
